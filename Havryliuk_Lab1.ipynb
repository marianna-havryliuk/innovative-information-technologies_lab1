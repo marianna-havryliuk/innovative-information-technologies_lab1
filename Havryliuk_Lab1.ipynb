{
 "cells": [
  {
   "cell_type": "markdown",
   "id": "f7b3b816",
   "metadata": {},
   "source": [
    "# Постанова Задачі №1 \n",
    "*Виконати набір вправ. Всі завдання виконати 2 способами:*\n",
    "* з використанням універсальних функцій бібліотеки NumPy;\n",
    "* за допомогою ітеративних конструкцій (з використанням циклів, спискових включень тощо)\n",
    "\n",
    "*Для обох випадків підрахувати час виконання скрипту та зробити висновки.*\n",
    "## Вправа 3\n",
    "*Вводяться 4 числа n, m, r, c. Вивести масив розміру n×m, в якому в кожному рядку з номером r і в кожному стовпчику з номером c стоять 0, а інші елементи дорівнюють 1.*\n",
    "\n",
    "In [2]: task_3()\n",
    "\n",
    "6 7 2 3\n",
    "      \n",
    "### Код програми (виконання завдання першим способом):"
   ]
  },
  {
   "cell_type": "code",
   "execution_count": 1,
   "id": "c229238a",
   "metadata": {},
   "outputs": [
    {
     "data": {
      "text/plain": [
       "array([[1, 1, 1, 0, 1, 1, 1],\n",
       "       [1, 1, 1, 0, 1, 1, 1],\n",
       "       [0, 0, 0, 0, 0, 0, 0],\n",
       "       [1, 1, 1, 0, 1, 1, 1],\n",
       "       [1, 1, 1, 0, 1, 1, 1],\n",
       "       [1, 1, 1, 0, 1, 1, 1]])"
      ]
     },
     "execution_count": 1,
     "metadata": {},
     "output_type": "execute_result"
    }
   ],
   "source": [
    "import numpy as np\n",
    "\n",
    "def task3_numpy(n, m, r, c):\n",
    "    # Створення масиву розміру n×m, в якому всі елементи рівні 1\n",
    "    result_array = np.ones((n, m), dtype=int)\n",
    "\n",
    "    # Заміна елементів у вибраних рядках та стовпцях на 0\n",
    "    result_array[r, :] = 0\n",
    "    result_array[:, c] = 0\n",
    "\n",
    "    return result_array\n",
    "\n",
    "# Виклик функції та вивід результатів\n",
    "n, m, r, c = 6, 7, 2, 3\n",
    "result_numpy = task3_numpy(n, m, r, c)\n",
    "result_numpy"
   ]
  },
  {
   "cell_type": "code",
   "execution_count": 3,
   "id": "5fd975a8",
   "metadata": {},
   "outputs": [
    {
     "name": "stdout",
     "output_type": "stream",
     "text": [
      "3.79 µs ± 190 ns per loop (mean ± std. dev. of 7 runs, 100,000 loops each)\n"
     ]
    }
   ],
   "source": [
    "%timeit task3_numpy(n, m, r, c)"
   ]
  },
  {
   "cell_type": "markdown",
   "id": "45bcdfc2",
   "metadata": {},
   "source": [
    "### Код програми (виконання завдання другим способом):"
   ]
  },
  {
   "cell_type": "code",
   "execution_count": 4,
   "id": "fe986f05",
   "metadata": {},
   "outputs": [
    {
     "data": {
      "text/plain": [
       "[[1, 1, 1, 0, 1, 1, 1],\n",
       " [1, 1, 1, 0, 1, 1, 1],\n",
       " [0, 0, 0, 0, 0, 0, 0],\n",
       " [1, 1, 1, 0, 1, 1, 1],\n",
       " [1, 1, 1, 0, 1, 1, 1],\n",
       " [1, 1, 1, 0, 1, 1, 1]]"
      ]
     },
     "execution_count": 4,
     "metadata": {},
     "output_type": "execute_result"
    }
   ],
   "source": [
    "def task3_iterative(n, m, r, c):\n",
    "    # Створення масиву розміру n×m, в якому всі елементи рівні 1\n",
    "    result_array = [[1] * m for _ in range(n)]\n",
    "\n",
    "    # Заміна елементів у вибраних рядках та стовпцях на 0\n",
    "    result_array[r] = [0] * m\n",
    "    for row in result_array:\n",
    "        row[c] = 0\n",
    "\n",
    "    return result_array\n",
    "\n",
    "# Виклик функції та вивід результатів\n",
    "result_iterative = task3_iterative(n, m, r, c)\n",
    "result_iterative"
   ]
  },
  {
   "cell_type": "code",
   "execution_count": 5,
   "id": "7cf71f97",
   "metadata": {},
   "outputs": [
    {
     "name": "stdout",
     "output_type": "stream",
     "text": [
      "2.48 µs ± 229 ns per loop (mean ± std. dev. of 7 runs, 100,000 loops each)\n"
     ]
    }
   ],
   "source": [
    "%timeit task3_iterative(n, m, r, c)"
   ]
  },
  {
   "cell_type": "markdown",
   "id": "eb3fa6d4",
   "metadata": {},
   "source": [
    "## Вправа 5\n",
    "*Вводиться число n. Вивести масив розміру n×n, в якому в рядках з парними індексами стоять 1, а в інших – 0.*\n",
    "\n",
    "In [2]:   task_5() \n",
    "                \n",
    "Out[2]: 5   \n",
    "| 1 | 1 | 1 | 1 | 1 | \n",
    "|---|---|---|---|---|\n",
    "| 0 | 0 | 0 | 0 | 0 |       \n",
    "| 1 | 1 | 1 | 1 | 1 |         \n",
    "| 0 | 0 | 0 | 0 | 0 |       \n",
    "| 1 | 1 | 1 | 1 | 1 |\n",
    "      \n",
    "      \n",
    "### Код програми (виконання завдання першим способом):"
   ]
  },
  {
   "cell_type": "code",
   "execution_count": 6,
   "id": "4cd33744",
   "metadata": {},
   "outputs": [
    {
     "name": "stdout",
     "output_type": "stream",
     "text": [
      "Введіть значення n: 5\n"
     ]
    },
    {
     "data": {
      "text/plain": [
       "(array([[1, 1, 1, 1, 1],\n",
       "        [0, 0, 0, 0, 0],\n",
       "        [1, 1, 1, 1, 1],\n",
       "        [0, 0, 0, 0, 0],\n",
       "        [1, 1, 1, 1, 1]]),\n",
       " 0.0)"
      ]
     },
     "execution_count": 6,
     "metadata": {},
     "output_type": "execute_result"
    }
   ],
   "source": [
    "import numpy as np\n",
    "import time\n",
    "\n",
    "def task5_numpy(n):\n",
    "    start_time = time.time()\n",
    "\n",
    "    # Створення масиву розміру n×n, в якому в рядках з парними індексами стоять 1, а в інших – 0\n",
    "    array = np.zeros((n, n), dtype=int)\n",
    "    array[::2, :] = 1\n",
    "\n",
    "    end_time = time.time()\n",
    "    execution_time = end_time - start_time\n",
    "\n",
    "    return array, execution_time\n",
    "\n",
    "# Приклад виклику функції:\n",
    "n = int(input(\"Введіть значення n: \"))\n",
    "# n = 5\n",
    "result_numpy, time_numpy = task5_numpy(n)\n",
    "result_numpy, time_numpy"
   ]
  },
  {
   "cell_type": "markdown",
   "id": "2b4ac1a3",
   "metadata": {},
   "source": [
    "### Код програми (виконання завдання другим способом):"
   ]
  },
  {
   "cell_type": "code",
   "execution_count": 7,
   "id": "2653f65c",
   "metadata": {},
   "outputs": [
    {
     "name": "stdout",
     "output_type": "stream",
     "text": [
      "Час виконання скрипту з використанням ітеративних конструкцій: 0.00 секунд\n",
      "1 1 1 1 1\n",
      "0 0 0 0 0\n",
      "1 1 1 1 1\n",
      "0 0 0 0 0\n",
      "1 1 1 1 1\n"
     ]
    }
   ],
   "source": [
    "def task_5_iter(n):\n",
    "    arr = []\n",
    "    for i in range(n):\n",
    "        row = []\n",
    "        for j in range(n):\n",
    "            if i % 2 == 0:\n",
    "                row.append(1)\n",
    "            else:\n",
    "                row.append(0)\n",
    "        arr.append(row)\n",
    "    return arr\n",
    "\n",
    "def print_matrix(arr):\n",
    "    for row in arr:\n",
    "        print(\" \".join(map(str, row)))\n",
    "\n",
    "def task_5(n):\n",
    "    start = time.time()\n",
    "    arr = task_5_iter(n)\n",
    "    end = time.time()\n",
    "    print(f\"Час виконання скрипту з використанням ітеративних конструкцій: {end - start:.2f} секунд\")\n",
    "    print_matrix(arr)\n",
    "\n",
    "task_5(n=5)"
   ]
  },
  {
   "cell_type": "markdown",
   "id": "e9e12021",
   "metadata": {},
   "source": [
    "## Вправа 7\n",
    "*З клавіатури вводиться масив. Замінити всі нульові елементи на –1.*\n",
    "\n",
    "In [2]:   task_7() \n",
    "| 3 | 4 | 0 | 6 | 5 | 0 | 3 | 0 | 4 | \n",
    "|---|---|---|---|---|---|---|---|---|\n",
    "\n",
    "Out[2]: \n",
    "| 3 | 4 | -1 | 6 | 5 | -1 | 3 | -1 | 4 | \n",
    "|---|---|---|---|---|---|---|---|---|\n",
    "      \n",
    "### Код програми (виконання завдання першим та другим способами):"
   ]
  },
  {
   "cell_type": "code",
   "execution_count": 8,
   "id": "d6c6ef4e",
   "metadata": {},
   "outputs": [
    {
     "name": "stdout",
     "output_type": "stream",
     "text": [
      "Введіть елементи масиву через пробіл: 3 4 0 6 5 0 3 0 4 \n",
      "NumPy execution time: 0.0009951591491699219\n",
      "CPU times: total: 0 ns\n",
      "Wall time: 995 µs\n",
      "Iterative execution time: 0.0\n",
      "CPU times: total: 0 ns\n",
      "Wall time: 0 ns\n"
     ]
    },
    {
     "data": {
      "text/markdown": [
       "**NumPy result:** [ 3  4 -1  6  5 -1  3 -1  4]"
      ],
      "text/plain": [
       "<IPython.core.display.Markdown object>"
      ]
     },
     "metadata": {},
     "output_type": "display_data"
    },
    {
     "data": {
      "text/markdown": [
       "**Iterative result:** [3, 4, -1, 6, 5, -1, 3, -1, 4]"
      ],
      "text/plain": [
       "<IPython.core.display.Markdown object>"
      ]
     },
     "metadata": {},
     "output_type": "display_data"
    }
   ],
   "source": [
    "from IPython.display import display, Markdown\n",
    "\n",
    "def task_7_numpy(arr):\n",
    "    start_time = time.time()\n",
    "    np_arr = np.array(arr)\n",
    "    np_arr[np_arr == 0] = -1\n",
    "    end_time = time.time()\n",
    "    print(\"NumPy execution time:\", end_time - start_time)\n",
    "    return np_arr\n",
    "\n",
    "def task_7_iterative(arr):\n",
    "    start_time = time.time()\n",
    "    result_iterative = [-1 if x == 0 else x for x in arr]\n",
    "    end_time = time.time()\n",
    "    print(\"Iterative execution time:\", end_time - start_time)\n",
    "    return result_iterative\n",
    "\n",
    "# Введення масиву з клавіатури\n",
    "arr = list(map(int, input(\"Введіть елементи масиву через пробіл: \").split()))\n",
    "\n",
    "# Виклик функцій\n",
    "%time result_numpy = task_7_numpy(arr)\n",
    "\n",
    "%time result_iterative = task_7_iterative(arr)\n",
    "\n",
    "# Вивід результатів\n",
    "display(Markdown(f\"**NumPy result:** {result_numpy}\"))\n",
    "display(Markdown(f\"**Iterative result:** {result_iterative}\"))"
   ]
  },
  {
   "cell_type": "markdown",
   "id": "11822126",
   "metadata": {},
   "source": [
    "## Вправа 9\n",
    "*Вводиться число n. Створити масив значень від n до 0.*\n",
    "\n",
    "In [2]:   task_9() \n",
    "\n",
    "Out[2]: 10\n",
    "| 10 | 9 | 8 | 7 | 6 | 5 | 4 | 3 | 2 | 1 | 0 | \n",
    "|---|---|---|---|---|---|---|---|---|---|---|\n",
    "      \n",
    "### Код програми (виконання завдання першим та другим способами):"
   ]
  },
  {
   "cell_type": "code",
   "execution_count": 9,
   "id": "de569a3b",
   "metadata": {},
   "outputs": [
    {
     "name": "stdout",
     "output_type": "stream",
     "text": [
      "Enter the number n: 10\n",
      "NumPy execution time: 0.001993894577026367\n",
      "Iterative execution time: 0.0\n"
     ]
    },
    {
     "data": {
      "text/markdown": [
       "**NumPy result:** [10  9  8  7  6  5  4  3  2  1  0]"
      ],
      "text/plain": [
       "<IPython.core.display.Markdown object>"
      ]
     },
     "metadata": {},
     "output_type": "display_data"
    },
    {
     "data": {
      "text/markdown": [
       "**Iterative result:** [10, 9, 8, 7, 6, 5, 4, 3, 2, 1, 0]"
      ],
      "text/plain": [
       "<IPython.core.display.Markdown object>"
      ]
     },
     "metadata": {},
     "output_type": "display_data"
    }
   ],
   "source": [
    "from IPython.display import display, Markdown\n",
    "\n",
    "def task_9_numpy(n):\n",
    "    start_time = time.time()\n",
    "    np_arr = np.arange(n, -1, -1)\n",
    "    end_time = time.time()\n",
    "    print(\"NumPy execution time:\", end_time - start_time)\n",
    "    return np_arr\n",
    "\n",
    "def task_9_iterative(n):\n",
    "    start_time = time.time()\n",
    "    arr_iterative = [i for i in range(n, -1, -1)]\n",
    "    end_time = time.time()\n",
    "    print(\"Iterative execution time:\", end_time - start_time)\n",
    "    return arr_iterative\n",
    "\n",
    "n = int(input(\"Enter the number n: \"))\n",
    "\n",
    "# Виклик функцій та вивід результатів \n",
    "result_numpy = task_9_numpy(n)\n",
    "result_iterative = task_9_iterative(n)\n",
    "\n",
    "display(Markdown(f\"**NumPy result:** {result_numpy}\"))\n",
    "display(Markdown(f\"**Iterative result:** {result_iterative}\"))"
   ]
  },
  {
   "cell_type": "markdown",
   "id": "797f9b8d",
   "metadata": {},
   "source": [
    "## Вправа 10\n",
    "*Вводиться числа n i m. Створити масив випадкових значень n×m і обчислити мінімальне, максимальне значення, середнє та середньо квадратичне відхилення, округлене до 3 знаків після коми.*\n",
    "\n",
    "In [2]:   task_10() \n",
    "\n",
    "Out[2]: 4   5\n",
    "\n",
    "Мінімальне значення: 0.038 \n",
    "\n",
    "Максимальне значення: 0.946 \n",
    "\n",
    "Середнє значення: 0.593 \n",
    "\n",
    "Дисперсія: 0.302\n",
    "\n",
    "      \n",
    "### Код програми (виконання завдання першим та другим способами):"
   ]
  },
  {
   "cell_type": "code",
   "execution_count": 10,
   "id": "a8c394cf",
   "metadata": {},
   "outputs": [
    {
     "name": "stdout",
     "output_type": "stream",
     "text": [
      "Введіть кількість рядків (n): 4\n",
      "Введіть кількість стовпців (m): 5\n"
     ]
    },
    {
     "data": {
      "text/markdown": [
       "Масив випадкових значень n × m :"
      ],
      "text/plain": [
       "<IPython.core.display.Markdown object>"
      ]
     },
     "metadata": {},
     "output_type": "display_data"
    },
    {
     "data": {
      "text/plain": [
       "array([[0.55114985, 0.51178561, 0.35213542, 0.66438347, 0.70458808],\n",
       "       [0.18336528, 0.66632148, 0.71091847, 0.66427695, 0.44450272],\n",
       "       [0.7709515 , 0.04553101, 0.0263019 , 0.39678467, 0.52311279],\n",
       "       [0.07353894, 0.24877419, 0.93896896, 0.59783931, 0.13581304]])"
      ]
     },
     "metadata": {},
     "output_type": "display_data"
    },
    {
     "data": {
      "text/markdown": [
       "**NumPy result:**\n",
       "Min: 0.026, Max: 0.939, Mean: 0.461, Root-mean-square deviation: 0.261, Execution Time: 0.0165861000 seconds"
      ],
      "text/plain": [
       "<IPython.core.display.Markdown object>"
      ]
     },
     "metadata": {},
     "output_type": "display_data"
    },
    {
     "data": {
      "text/markdown": [
       "**Iterative result:**\n",
       "Min: 0.026, Max: 0.939, Mean: 0.461, Root-mean-square deviation: 0.261, Execution Time: 0.0117558000 seconds"
      ],
      "text/plain": [
       "<IPython.core.display.Markdown object>"
      ]
     },
     "metadata": {},
     "output_type": "display_data"
    }
   ],
   "source": [
    "import numpy as np\n",
    "from IPython.display import display, Markdown\n",
    "import timeit\n",
    "\n",
    "def task_10_numpy(arr):\n",
    "    start_time = timeit.default_timer()\n",
    "    # Обчислення мінімального, максимального, середнього значень та середньо-квадратичного відхилення (1 спосіб)\n",
    "    min_val = np.min(arr)\n",
    "    max_val = np.max(arr)\n",
    "    mean_val = np.mean(arr)\n",
    "    std_val = np.std(arr)\n",
    "    \n",
    "    end_time = timeit.default_timer()\n",
    "    elapsed_time = end_time - start_time\n",
    "    \n",
    "    return round(min_val, 3), round(max_val, 3), round(mean_val, 3), round(std_val, 3)\n",
    "\n",
    "def task_10_iterative(arr):\n",
    "    start_time = timeit.default_timer()\n",
    "    # Обчислення мінімального, максимального, середнього значень та середньо-квадратичного відхилення (2 спосіб)\n",
    "    min_val = min(arr.flatten())\n",
    "    max_val = max(arr.flatten())\n",
    "    mean_val = sum(arr.flatten()) / len(arr.flatten())\n",
    "    std_val = (sum((x - mean_val) ** 2 for x in arr.flatten()) / len(arr.flatten())) ** 0.5\n",
    "    \n",
    "    end_time = timeit.default_timer()\n",
    "    elapsed_time = end_time - start_time\n",
    "    \n",
    "    return round(min_val, 3), round(max_val, 3), round(mean_val, 3), round(std_val, 3)\n",
    "\n",
    "n = int(input(\"Введіть кількість рядків (n): \"))\n",
    "m = int(input(\"Введіть кількість стовпців (m): \"))\n",
    "\n",
    "# Створення масиву випадкових значень n×m\n",
    "random_array = np.random.rand(n, m)\n",
    "display(Markdown(\"Масив випадкових значень n × m :\"))\n",
    "display(random_array)\n",
    "\n",
    "# Використання timeit для точного вимірювання часу виконання\n",
    "time_numpy = timeit.timeit(lambda: task_10_numpy(random_array), number=100)\n",
    "time_iterative = timeit.timeit(lambda: task_10_iterative(random_array), number=100)\n",
    "\n",
    "# Виклик функцій та вивід результатів\n",
    "result_numpy = task_10_numpy(random_array)\n",
    "result_iterative = task_10_iterative(random_array)\n",
    "\n",
    "display(Markdown(f\"**NumPy result:**\\n\"\n",
    "                 f\"Min: {result_numpy[0]}, Max: {result_numpy[1]}, \"\n",
    "                 f\"Mean: {result_numpy[2]}, Root-mean-square deviation: {result_numpy[3]}, \"\n",
    "                 f\"Execution Time: {time_numpy:.10f} seconds\"))\n",
    "\n",
    "display(Markdown(f\"**Iterative result:**\\n\"\n",
    "                 f\"Min: {result_iterative[0]}, Max: {result_iterative[1]}, \"\n",
    "                 f\"Mean: {result_iterative[2]}, Root-mean-square deviation: {result_iterative[3]}, \"\n",
    "                 f\"Execution Time: {time_iterative:.10f} seconds\"))"
   ]
  },
  {
   "cell_type": "markdown",
   "id": "0540c12f",
   "metadata": {},
   "source": [
    "## Вправа 12\n",
    "*Створити масив одиниць розміром n×n та створити в ньому «рамку», що утворюється з 0.*\n",
    "\n",
    "In [2]:   task_12() \n",
    "\n",
    "Out[2]: 4\n",
    "\n",
    "| 0. | 0. | 0. | 0. |\n",
    "|---|---|---|---|\n",
    "| 0. | 1. | 1. | 0. |\n",
    "| 0. | 1. | 1. | 0. | \n",
    "| 0. | 0. | 0. | 0. |\n",
    "      \n",
    "### Код програми (виконання завдання першим та другим способами):"
   ]
  },
  {
   "cell_type": "code",
   "execution_count": 11,
   "id": "ced0be32",
   "metadata": {},
   "outputs": [
    {
     "name": "stdout",
     "output_type": "stream",
     "text": [
      "Введіть розмір масиву n: 4\n"
     ]
    },
    {
     "data": {
      "text/markdown": [
       "**NumPy result:**"
      ],
      "text/plain": [
       "<IPython.core.display.Markdown object>"
      ]
     },
     "metadata": {},
     "output_type": "display_data"
    },
    {
     "data": {
      "text/html": [
       "<div>\n",
       "<style scoped>\n",
       "    .dataframe tbody tr th:only-of-type {\n",
       "        vertical-align: middle;\n",
       "    }\n",
       "\n",
       "    .dataframe tbody tr th {\n",
       "        vertical-align: top;\n",
       "    }\n",
       "\n",
       "    .dataframe thead th {\n",
       "        text-align: right;\n",
       "    }\n",
       "</style>\n",
       "<table border=\"1\" class=\"dataframe\">\n",
       "  <thead>\n",
       "    <tr style=\"text-align: right;\">\n",
       "      <th></th>\n",
       "      <th>0</th>\n",
       "      <th>1</th>\n",
       "      <th>2</th>\n",
       "      <th>3</th>\n",
       "    </tr>\n",
       "  </thead>\n",
       "  <tbody>\n",
       "    <tr>\n",
       "      <th>0</th>\n",
       "      <td>0</td>\n",
       "      <td>0</td>\n",
       "      <td>0</td>\n",
       "      <td>0</td>\n",
       "    </tr>\n",
       "    <tr>\n",
       "      <th>1</th>\n",
       "      <td>0</td>\n",
       "      <td>1</td>\n",
       "      <td>1</td>\n",
       "      <td>0</td>\n",
       "    </tr>\n",
       "    <tr>\n",
       "      <th>2</th>\n",
       "      <td>0</td>\n",
       "      <td>1</td>\n",
       "      <td>1</td>\n",
       "      <td>0</td>\n",
       "    </tr>\n",
       "    <tr>\n",
       "      <th>3</th>\n",
       "      <td>0</td>\n",
       "      <td>0</td>\n",
       "      <td>0</td>\n",
       "      <td>0</td>\n",
       "    </tr>\n",
       "  </tbody>\n",
       "</table>\n",
       "</div>"
      ],
      "text/plain": [
       "   0  1  2  3\n",
       "0  0  0  0  0\n",
       "1  0  1  1  0\n",
       "2  0  1  1  0\n",
       "3  0  0  0  0"
      ]
     },
     "metadata": {},
     "output_type": "display_data"
    },
    {
     "data": {
      "text/markdown": [
       "Execution Time: 0.0000475000 seconds"
      ],
      "text/plain": [
       "<IPython.core.display.Markdown object>"
      ]
     },
     "metadata": {},
     "output_type": "display_data"
    },
    {
     "data": {
      "text/markdown": [
       "**Iterative result:**"
      ],
      "text/plain": [
       "<IPython.core.display.Markdown object>"
      ]
     },
     "metadata": {},
     "output_type": "display_data"
    },
    {
     "data": {
      "text/html": [
       "<div>\n",
       "<style scoped>\n",
       "    .dataframe tbody tr th:only-of-type {\n",
       "        vertical-align: middle;\n",
       "    }\n",
       "\n",
       "    .dataframe tbody tr th {\n",
       "        vertical-align: top;\n",
       "    }\n",
       "\n",
       "    .dataframe thead th {\n",
       "        text-align: right;\n",
       "    }\n",
       "</style>\n",
       "<table border=\"1\" class=\"dataframe\">\n",
       "  <thead>\n",
       "    <tr style=\"text-align: right;\">\n",
       "      <th></th>\n",
       "      <th>0</th>\n",
       "      <th>1</th>\n",
       "      <th>2</th>\n",
       "      <th>3</th>\n",
       "    </tr>\n",
       "  </thead>\n",
       "  <tbody>\n",
       "    <tr>\n",
       "      <th>0</th>\n",
       "      <td>0</td>\n",
       "      <td>0</td>\n",
       "      <td>0</td>\n",
       "      <td>0</td>\n",
       "    </tr>\n",
       "    <tr>\n",
       "      <th>1</th>\n",
       "      <td>0</td>\n",
       "      <td>1</td>\n",
       "      <td>1</td>\n",
       "      <td>0</td>\n",
       "    </tr>\n",
       "    <tr>\n",
       "      <th>2</th>\n",
       "      <td>0</td>\n",
       "      <td>1</td>\n",
       "      <td>1</td>\n",
       "      <td>0</td>\n",
       "    </tr>\n",
       "    <tr>\n",
       "      <th>3</th>\n",
       "      <td>0</td>\n",
       "      <td>0</td>\n",
       "      <td>0</td>\n",
       "      <td>0</td>\n",
       "    </tr>\n",
       "  </tbody>\n",
       "</table>\n",
       "</div>"
      ],
      "text/plain": [
       "   0  1  2  3\n",
       "0  0  0  0  0\n",
       "1  0  1  1  0\n",
       "2  0  1  1  0\n",
       "3  0  0  0  0"
      ]
     },
     "metadata": {},
     "output_type": "display_data"
    },
    {
     "data": {
      "text/markdown": [
       "Execution Time: 0.0000141000 seconds"
      ],
      "text/plain": [
       "<IPython.core.display.Markdown object>"
      ]
     },
     "metadata": {},
     "output_type": "display_data"
    }
   ],
   "source": [
    "import numpy as np\n",
    "import pandas as pd\n",
    "from IPython.display import display, Markdown\n",
    "import timeit\n",
    "\n",
    "def task_12_numpy(n):\n",
    "    start_time = timeit.default_timer()\n",
    "    # Створення масиву нулів розміром n×n\n",
    "    arr = np.zeros((n, n), dtype=int)\n",
    "\n",
    "    # Заміна внутрішньої «рамки» у масиві на 1\n",
    "    arr[1:-1, 1:-1] = 1\n",
    "\n",
    "    end_time = timeit.default_timer()\n",
    "    elapsed_time = end_time - start_time\n",
    "    \n",
    "    return arr, elapsed_time\n",
    "\n",
    "def task_12_iterative(n):\n",
    "    start_time = timeit.default_timer()\n",
    "    # Створення масиву нулів розміром n×n\n",
    "    arr = np.zeros((n, n), dtype=int)\n",
    "\n",
    "    # Заміна внутрішньої «рамки» у масиві на 1\n",
    "    for i in range(1, n - 1):\n",
    "        for j in range(1, n - 1):\n",
    "            arr[i, j] = 1\n",
    "\n",
    "    end_time = timeit.default_timer()\n",
    "    elapsed_time = end_time - start_time\n",
    "    \n",
    "    return arr, elapsed_time\n",
    "\n",
    "n = int(input(\"Введіть розмір масиву n: \"))\n",
    "\n",
    "# Виклик функцій та вивід результатів\n",
    "result_numpy, time_numpy = task_12_numpy(n)\n",
    "result_iterative, time_iterative = task_12_iterative(n)\n",
    "display(Markdown(\"**NumPy result:**\"))\n",
    "display(pd.DataFrame(result_numpy))\n",
    "display(Markdown(f\"Execution Time: {time_numpy:.10f} seconds\"))\n",
    "\n",
    "display(Markdown(\"**Iterative result:**\"))\n",
    "display(pd.DataFrame(result_iterative))\n",
    "display(Markdown(f\"Execution Time: {time_iterative:.10f} seconds\"))"
   ]
  },
  {
   "cell_type": "markdown",
   "id": "ebf2a469",
   "metadata": {},
   "source": [
    "## Вправа 14\n",
    "*Розмістити на полі 8×8 нулі та одиниці в шахматному порядку, використовуючи функцію numpy tile().*\n",
    "\n",
    "In [2]:   task_14() \n",
    "\n",
    "Out[2]: \n",
    "\n",
    "| 0 | 1 | 0 | 1 | 0 | 1 | 0 | 1 | \n",
    "|---|---|---|---|---|---|---|---|\n",
    "| 1 | 0 | 1 | 0 | 1 | 0 | 1 | 0 | \n",
    "| 0 | 1 | 0 | 1 | 0 | 1 | 0 | 1 | \n",
    "| 1 | 0 | 1 | 0 | 1 | 0 | 1 | 0 | \n",
    "| 0 | 1 | 0 | 1 | 0 | 1 | 0 | 1 |\n",
    "| 1 | 0 | 1 | 0 | 1 | 0 | 1 | 0 | \n",
    "| 0 | 1 | 0 | 1 | 0 | 1 | 0 | 1 |\n",
    "| 1 | 0 | 1 | 0 | 1 | 0 | 1 | 0 | \n",
    "      \n",
    "### Код програми (виконання завдання першим та другим способами):"
   ]
  },
  {
   "cell_type": "code",
   "execution_count": 12,
   "id": "d73f7239",
   "metadata": {},
   "outputs": [
    {
     "data": {
      "text/markdown": [
       "**NumPy result:**"
      ],
      "text/plain": [
       "<IPython.core.display.Markdown object>"
      ]
     },
     "metadata": {},
     "output_type": "display_data"
    },
    {
     "data": {
      "text/plain": [
       "array([[0, 1, 0, 1, 0, 1, 0, 1],\n",
       "       [1, 0, 1, 0, 1, 0, 1, 0],\n",
       "       [0, 1, 0, 1, 0, 1, 0, 1],\n",
       "       [1, 0, 1, 0, 1, 0, 1, 0],\n",
       "       [0, 1, 0, 1, 0, 1, 0, 1],\n",
       "       [1, 0, 1, 0, 1, 0, 1, 0],\n",
       "       [0, 1, 0, 1, 0, 1, 0, 1],\n",
       "       [1, 0, 1, 0, 1, 0, 1, 0]])"
      ]
     },
     "metadata": {},
     "output_type": "display_data"
    },
    {
     "data": {
      "text/markdown": [
       "Execution Time (NumPy): 0.0044614000 seconds"
      ],
      "text/plain": [
       "<IPython.core.display.Markdown object>"
      ]
     },
     "metadata": {},
     "output_type": "display_data"
    },
    {
     "data": {
      "text/markdown": [
       "**Iterative result:**"
      ],
      "text/plain": [
       "<IPython.core.display.Markdown object>"
      ]
     },
     "metadata": {},
     "output_type": "display_data"
    },
    {
     "data": {
      "text/plain": [
       "array([[0, 1, 0, 1, 0, 1, 0, 1],\n",
       "       [1, 0, 1, 0, 1, 0, 1, 0],\n",
       "       [0, 1, 0, 1, 0, 1, 0, 1],\n",
       "       [1, 0, 1, 0, 1, 0, 1, 0],\n",
       "       [0, 1, 0, 1, 0, 1, 0, 1],\n",
       "       [1, 0, 1, 0, 1, 0, 1, 0],\n",
       "       [0, 1, 0, 1, 0, 1, 0, 1],\n",
       "       [1, 0, 1, 0, 1, 0, 1, 0]])"
      ]
     },
     "metadata": {},
     "output_type": "display_data"
    },
    {
     "data": {
      "text/markdown": [
       "Execution Time (Iterative): 0.0000602000 seconds"
      ],
      "text/plain": [
       "<IPython.core.display.Markdown object>"
      ]
     },
     "metadata": {},
     "output_type": "display_data"
    }
   ],
   "source": [
    "def task_14_numpy(n):\n",
    "    start_time = timeit.default_timer()\n",
    "\n",
    "    # Створення шахматної дошки за допомогою функції tile()\n",
    "    chessboard = np.tile([[0, 1], [1, 0]], (n // 2, n // 2))\n",
    "\n",
    "    end_time = timeit.default_timer()\n",
    "    elapsed_time = end_time - start_time\n",
    "\n",
    "    return chessboard, elapsed_time\n",
    "\n",
    "def task_14_iterative(n):\n",
    "    start_time = timeit.default_timer()\n",
    "\n",
    "    # Створення шахматної дошки з допомогою циклів \n",
    "    chessboard = np.zeros((n, n), dtype=int)\n",
    "    for i in range(n):\n",
    "        for j in range(n):\n",
    "            chessboard[i, j] = (i + j) % 2\n",
    "\n",
    "    end_time = timeit.default_timer()\n",
    "    elapsed_time = end_time - start_time\n",
    "\n",
    "    return chessboard, elapsed_time\n",
    "\n",
    "# Розмір шахматної дошки\n",
    "n = 8\n",
    "\n",
    "# Виклик функцій та вивід результатів\n",
    "result_numpy, time_numpy = task_14_numpy(n)\n",
    "result_iterative, time_iterative = task_14_iterative(n)\n",
    "display(Markdown(\"**NumPy result:**\"))\n",
    "display(result_numpy)\n",
    "display(Markdown(f\"Execution Time (NumPy): {time_numpy:.10f} seconds\"))\n",
    "\n",
    "display(Markdown(\"**Iterative result:**\"))\n",
    "display(result_iterative)\n",
    "display(Markdown(f\"Execution Time (Iterative): {time_iterative:.10f} seconds\"))"
   ]
  },
  {
   "cell_type": "markdown",
   "id": "6ea5511d",
   "metadata": {},
   "source": [
    "## Вправа 15\n",
    "*Заповнити парні стовпчикі матриці розміром n×n одиницями, а непарні – нулями.*\n",
    "\n",
    "In [2]:   task_15() \n",
    "\n",
    "Out[2]:   5\n",
    "\n",
    "| 0 | 1 | 0 | 1 | 0 | \n",
    "|---|---|---|---|---|\n",
    "| 0 | 1 | 0 | 1 | 0 | \n",
    "| 0 | 1 | 0 | 1 | 0 | \n",
    "| 0 | 1 | 0 | 1 | 0 |  \n",
    "| 0 | 1 | 0 | 1 | 0 |   \n",
    "      \n",
    "### Код програми (виконання завдання першим та другим способами):"
   ]
  },
  {
   "cell_type": "code",
   "execution_count": 13,
   "id": "adfe1b7e",
   "metadata": {},
   "outputs": [
    {
     "name": "stdout",
     "output_type": "stream",
     "text": [
      "Введіть розмір матриці n: 5\n"
     ]
    },
    {
     "data": {
      "text/markdown": [
       "**NumPy result:**"
      ],
      "text/plain": [
       "<IPython.core.display.Markdown object>"
      ]
     },
     "metadata": {},
     "output_type": "display_data"
    },
    {
     "data": {
      "text/plain": [
       "array([[0, 1, 0, 1, 0],\n",
       "       [0, 1, 0, 1, 0],\n",
       "       [0, 1, 0, 1, 0],\n",
       "       [0, 1, 0, 1, 0],\n",
       "       [0, 1, 0, 1, 0]])"
      ]
     },
     "metadata": {},
     "output_type": "display_data"
    },
    {
     "data": {
      "text/markdown": [
       "Execution Time (NumPy): 0.0000432000 seconds"
      ],
      "text/plain": [
       "<IPython.core.display.Markdown object>"
      ]
     },
     "metadata": {},
     "output_type": "display_data"
    },
    {
     "data": {
      "text/markdown": [
       "**Iterative result:**"
      ],
      "text/plain": [
       "<IPython.core.display.Markdown object>"
      ]
     },
     "metadata": {},
     "output_type": "display_data"
    },
    {
     "data": {
      "text/plain": [
       "array([[0, 1, 0, 1, 0],\n",
       "       [0, 1, 0, 1, 0],\n",
       "       [0, 1, 0, 1, 0],\n",
       "       [0, 1, 0, 1, 0],\n",
       "       [0, 1, 0, 1, 0]])"
      ]
     },
     "metadata": {},
     "output_type": "display_data"
    },
    {
     "data": {
      "text/markdown": [
       "Execution Time (Iterative): 0.0000152000 seconds"
      ],
      "text/plain": [
       "<IPython.core.display.Markdown object>"
      ]
     },
     "metadata": {},
     "output_type": "display_data"
    }
   ],
   "source": [
    "def task_15_numpy(n):\n",
    "    start_time = timeit.default_timer()\n",
    "\n",
    "    # Створення матриці розміром n×n та заповнення парних стовпчиків одиницями, а непарних - нулями\n",
    "    matrix = np.zeros((n, n), dtype=int)\n",
    "    matrix[:, 1::2] = 1  # Починаючи з другого стовпчика, кожен другий стовпчик заповнюється одиницями\n",
    "\n",
    "    end_time = timeit.default_timer()\n",
    "    elapsed_time = end_time - start_time\n",
    "    \n",
    "    return matrix, elapsed_time\n",
    "\n",
    "def task_15_iterative(n):\n",
    "    start_time = timeit.default_timer()\n",
    "\n",
    "    # Створення та заповнення матриці за допомогою функції np.zeros та циклів for\n",
    "    matrix = np.zeros((n, n), dtype=int)\n",
    "    for i in range(n):\n",
    "        for j in range(1, n, 2):\n",
    "            matrix[i, j] = 1\n",
    "\n",
    "    end_time = timeit.default_timer()\n",
    "    elapsed_time = end_time - start_time\n",
    "    \n",
    "    return matrix, elapsed_time\n",
    "\n",
    "n = int(input(\"Введіть розмір матриці n: \"))\n",
    "\n",
    "# Виклик функцій та вивід результатів \n",
    "result_numpy, time_numpy = task_15_numpy(n)\n",
    "result_iterative, time_iterative = task_15_iterative(n)\n",
    "display(Markdown(\"**NumPy result:**\"))\n",
    "display(result_numpy)\n",
    "display(Markdown(f\"Execution Time (NumPy): {time_numpy:.10f} seconds\"))\n",
    "\n",
    "display(Markdown(\"**Iterative result:**\"))\n",
    "display(result_iterative)\n",
    "display(Markdown(f\"Execution Time (Iterative): {time_iterative:.10f} seconds\"))"
   ]
  },
  {
   "cell_type": "markdown",
   "id": "1aaf8fc2",
   "metadata": {},
   "source": [
    "## Вправа 21\n",
    "*Ввести числа n і m. Згенерувати матрицю n×n випадкових цілих елементів з діапазону [0, m]. Замінити всі максимальні елементи цієї матриці на протилежні за знаком.*\n",
    "\n",
    "In [2]:   task_21() \n",
    "\n",
    "Out[2]:   4  10\n",
    "\n",
    "Початковий вектор: \n",
    "| 9 | 6 | 0 | 9 | \n",
    "|---|---|---|---|\n",
    "| 4 | 3 | 7 | 9 | \n",
    "| 4 | 1 | 0 | 8 | \n",
    "| 5 | 5 | 4 | 8 |  \n",
    "\n",
    "Змінений вектор: \n",
    "| -9 | 6 | 0 | -9 | \n",
    "|---|---|---|---|\n",
    "| 4 | 3 | 7 | -9 | \n",
    "| 4 | 1 | 0 | 8 | \n",
    "| 5 | 5 | 4 | 8 |  \n",
    "      \n",
    "### Код програми (виконання завдання першим та другим способами):"
   ]
  },
  {
   "cell_type": "code",
   "execution_count": 14,
   "id": "3190bfc9",
   "metadata": {},
   "outputs": [
    {
     "name": "stdout",
     "output_type": "stream",
     "text": [
      "Введіть розмір матриці n: 4\n",
      "Введіть верхню межу діапазону m для генерації випадкових чисел: 10\n",
      "Початковий вектор:\n",
      "[[ 1  8  5  6]\n",
      " [ 5  6  1  6]\n",
      " [ 5  0  5  6]\n",
      " [ 4  8 10  9]]\n",
      "\n",
      "Змінений вектор (NumPy):\n",
      "[[  1   8   5   6]\n",
      " [  5   6   1   6]\n",
      " [  5   0   5   6]\n",
      " [  4   8 -10   9]]\n",
      "Час виконання (NumPy): 0.0003332000 секунд\n",
      "\n",
      "Змінений вектор (Iterative):\n",
      "[[  1   8   5   6]\n",
      " [  5   6   1   6]\n",
      " [  5   0   5   6]\n",
      " [  4   8 -10   9]]\n",
      "Час виконання (Iterative): 0.0000560000 секунд\n"
     ]
    }
   ],
   "source": [
    "import numpy as np\n",
    "import timeit\n",
    "\n",
    "def task_21_numpy(matrix):\n",
    "    start_time = timeit.default_timer()\n",
    "\n",
    "    # Знаходження максимального значення в матриці\n",
    "    max_value = np.max(matrix)\n",
    "\n",
    "    # Заміна всіх максимальних значень на протилежні за знаком\n",
    "    matrix[matrix == max_value] *= -1\n",
    "\n",
    "    end_time = timeit.default_timer()\n",
    "    elapsed_time = end_time - start_time\n",
    "    \n",
    "    return matrix, elapsed_time\n",
    "\n",
    "def task_21_iterative(matrix):\n",
    "    start_time = timeit.default_timer()\n",
    "\n",
    "    # Знаходження максимального значення в матриці\n",
    "    max_value = max(max(row) for row in matrix)\n",
    "\n",
    "    # Заміна всіх максимальних значень на протилежні за знаком\n",
    "    for i in range(len(matrix)):\n",
    "        for j in range(len(matrix[i])):\n",
    "            if matrix[i][j] == max_value:\n",
    "                matrix[i][j] *= -1\n",
    "\n",
    "    end_time = timeit.default_timer()\n",
    "    elapsed_time = end_time - start_time\n",
    "    \n",
    "    return matrix, elapsed_time\n",
    "\n",
    "n = int(input(\"Введіть розмір матриці n: \"))\n",
    "m = int(input(\"Введіть верхню межу діапазону m для генерації випадкових чисел: \"))\n",
    "\n",
    "# Створення матриці n×n випадкових цілих елементів з діапазону [0, m]\n",
    "matrix = np.random.randint(0, m + 1, size=(n, n))\n",
    "\n",
    "print(\"Початковий вектор:\")\n",
    "print(matrix)\n",
    "\n",
    "# Виклик функцій та вивід результатів\n",
    "result_numpy, time_numpy = task_21_numpy(matrix.copy())\n",
    "result_iterative, time_iterative = task_21_iterative(matrix.copy())\n",
    "\n",
    "# Вивід зміненого вектора та часу виконання\n",
    "print(\"\\nЗмінений вектор (NumPy):\")\n",
    "print(result_numpy)\n",
    "print(f\"Час виконання (NumPy): {time_numpy:.10f} секунд\")\n",
    "\n",
    "print(\"\\nЗмінений вектор (Iterative):\")\n",
    "print(result_iterative)\n",
    "print(f\"Час виконання (Iterative): {time_iterative:.10f} секунд\")"
   ]
  },
  {
   "cell_type": "markdown",
   "id": "6619af14",
   "metadata": {},
   "source": [
    "# Постанова Задачі № 2\n",
    "*Розв’язати систему алгебраїчних рівнянь за допомогою формул Крамера і виконати перевірку за допомогою:*\n",
    "* матричного множення; \n",
    "* оберненої матриці; \n",
    "* функції numpy.linalg.solve(). \n",
    "\n",
    "*Порівняти всі рішення за допомогою функції numpy.allclose().*\n",
    "\n",
    "**Індивідуальне завдання (згідно варіанту № 5):**\n",
    "\\begin{align*}\n",
    "x_1 + 3x_2 + 5x_3 + 7x_4 &= 12 \\\\\n",
    "3x_1 + 5x_2 + 7x_3 + x_4 &= 0 \\\\\n",
    "5x_1 + 7x_2 + x_3 + 3x_4 &= 4 \\\\\n",
    "7x_1 + x_2 + 3x_3 + 5x_4 &= 16 \\\\\n",
    "\\end{align*}"
   ]
  },
  {
   "cell_type": "code",
   "execution_count": 15,
   "id": "15436982",
   "metadata": {},
   "outputs": [
    {
     "name": "stdout",
     "output_type": "stream",
     "text": [
      "Розв'язок за допомогою формули Крамера: [ 1 -1  0  2]\n",
      "\n",
      "Перевірка за допомогою матричного множення (A * X): [12  0  4 16]\n",
      "\n",
      "Перевірка за допомогою оберненої матриці (A_inv * B): [ 1 -1  0  2]\n",
      "\n",
      "Перевірка за допомогою numpy.linalg.solve(): [ 1 -1  0  2]\n",
      "\n",
      "Порівняння за допомогою numpy.allclose() - Формула Крамера: False\n",
      "Порівняння за допомогою numpy.allclose() - Матричне множення: True\n",
      "Порівняння за допомогою numpy.allclose() - Обернена матриця: False\n",
      "Порівняння за допомогою numpy.allclose() - numpy.linalg.solve(): False\n"
     ]
    }
   ],
   "source": [
    "import numpy as np\n",
    "\n",
    "# Коефіцієнти системи рівнянь\n",
    "A = np.array([[1, 3, 5, 7],\n",
    "              [3, 5, 7, 1],\n",
    "              [5, 7, 1, 3],\n",
    "              [7, 1, 3, 5]])\n",
    "\n",
    "# Вільні члени\n",
    "B = np.array([12, 0, 4, 16])\n",
    "\n",
    "# Розв'язок за допомогою формули Крамера\n",
    "det_A = np.linalg.det(A)\n",
    "results_kramer = np.array([round(np.linalg.det(np.column_stack((A[:, :i], B, A[:, i+1:])))/det_A) for i in range(A.shape[1])])\n",
    "\n",
    "# Перевірка розв'язку за допомогою матричного множення\n",
    "check_matrix_multiply = np.dot(A, results_kramer)\n",
    "\n",
    "# Перевірка розв'язку за допомогою оберненої матриці\n",
    "A_inv = np.linalg.inv(A)\n",
    "check_inverse_matrix = np.dot(A_inv, B)\n",
    "check_inverse_matrix_rounded = np.round(check_inverse_matrix).astype(int)\n",
    "\n",
    "# Перевірка розв'язку за допомогою numpy.linalg.solve()\n",
    "check_solve = np.linalg.solve(A, B)\n",
    "check_solve_rounded = np.round(check_solve).astype(int)\n",
    "\n",
    "print(\"Розв'язок за допомогою формули Крамера:\", results_kramer)\n",
    "print(\"\\nПеревірка за допомогою матричного множення (A * X):\", check_matrix_multiply)\n",
    "print(\"\\nПеревірка за допомогою оберненої матриці (A_inv * B):\", check_inverse_matrix_rounded)\n",
    "print(\"\\nПеревірка за допомогою numpy.linalg.solve():\", check_solve_rounded)\n",
    "\n",
    "# Порівняння всіх рішень за допомогою numpy.allclose()\n",
    "result_kramer = np.allclose(results_kramer, B)\n",
    "result_matrix_multiply = np.allclose(check_matrix_multiply, B)\n",
    "result_inverse_matrix = np.allclose(check_inverse_matrix, B)\n",
    "result_solve = np.allclose(check_solve, B)\n",
    "print(\"\\nПорівняння за допомогою numpy.allclose() - Формула Крамера:\", result_kramer)\n",
    "print(\"Порівняння за допомогою numpy.allclose() - Матричне множення:\", result_matrix_multiply)\n",
    "print(\"Порівняння за допомогою numpy.allclose() - Обернена матриця:\", result_inverse_matrix)\n",
    "print(\"Порівняння за допомогою numpy.allclose() - numpy.linalg.solve():\", result_solve)"
   ]
  },
  {
   "cell_type": "markdown",
   "id": "ab34b921",
   "metadata": {},
   "source": [
    "# Постанова Задачі № 3\n",
    "*Обчислити значення матричного виразу:*\n",
    "* з використанням універсальних функцій бібліотеки NumPy;\n",
    "* за допомогою ітеративних конструкцій (з використанням циклів, спискових включень тощо).\n",
    "\n",
    "*Для обох випадків підрахувати час виконання скрипту та зробити висновок.*\n",
    "\n",
    "*Порівняти всі рішення за допомогою функції numpy.allclose().*\n",
    "\n",
    "**Індивідуальне завдання (згідно варіанту № 5):**\n",
    "\n",
    "\n",
    "(A - B^2)(2A + B),\n",
    "\n",
    "де\n",
    "A = \\begin{pmatrix}\n",
    "5 & 2 & 0 \\\\\n",
    "10 & 4 & 1 \\\\\n",
    "7 & 3 & 2 \\\\\n",
    "\\end{pmatrix}\n",
    "\n",
    "та\n",
    "B = \\begin{pmatrix}\n",
    "3 & 6 & -1 \\\\\n",
    "-1 & -2 & 0 \\\\\n",
    "2 & 1 & 3 \\\\\n",
    "\\end{pmatrix}\n",
    "\n",
    "### Код програми (виконання завдання першим та другим способами):"
   ]
  },
  {
   "cell_type": "code",
   "execution_count": 16,
   "id": "e5d6452a",
   "metadata": {},
   "outputs": [
    {
     "name": "stdout",
     "output_type": "stream",
     "text": [
      "Час виконання з використанням NumPy:  0.00099945068359375 секунд\n",
      "Час виконання з використанням циклів:  0.0009980201721191406 секунд\n",
      "Результат з використанням NumPy:\n",
      "[[  91   64   32]\n",
      " [ 257  146    1]\n",
      " [-322 -135  -51]]\n",
      "Результат з використанням циклів:\n",
      "[[91, 64, 32], [257, 146, 1], [-322, -135, -51]]\n",
      "Чи співпадають результати? True\n"
     ]
    }
   ],
   "source": [
    "import numpy as np\n",
    "import time\n",
    "\n",
    "A = np.array([[5, 2, 0], [10, 4, 1], [7, 3, 2]])\n",
    "B = np.array([[3, 6, -1], [-1, -2, 0], [2, 1, 3]])\n",
    "\n",
    "start_time = time.time()\n",
    "\n",
    "B_squared = np.matmul(B, B)\n",
    "A_minus_B_squared = np.subtract(A, B_squared)\n",
    "two_A = np.multiply(2, A)\n",
    "two_A_plus_B = np.add(two_A, B)\n",
    "result = np.matmul(A_minus_B_squared, two_A_plus_B)\n",
    "\n",
    "end_time = time.time()\n",
    "print(\"Час виконання з використанням NumPy: \", end_time - start_time, \"секунд\")\n",
    "\n",
    "start_time = time.time()\n",
    "\n",
    "# обчислення B^2\n",
    "B_squared = [[0, 0, 0], [0, 0, 0], [0, 0, 0]]\n",
    "for i in range(len(B)):\n",
    "    for j in range(len(B[0])):\n",
    "        for k in range(len(B)):\n",
    "            B_squared[i][j] += B[i][k] * B[k][j]\n",
    "\n",
    "# обчислення A - B^2\n",
    "A_minus_B_squared = [[0, 0, 0], [0, 0, 0], [0, 0, 0]]\n",
    "for i in range(len(A)):\n",
    "    for j in range(len(A[0])):\n",
    "        A_minus_B_squared[i][j] = A[i][j] - B_squared[i][j]\n",
    "\n",
    "# обчислення 2A + B\n",
    "two_A_plus_B = [[0, 0, 0], [0, 0, 0], [0, 0, 0]]\n",
    "for i in range(len(A)):\n",
    "    for j in range(len(A[0])):\n",
    "        two_A_plus_B[i][j] = 2 * A[i][j] + B[i][j]\n",
    "\n",
    "# обчислення (A - B^2) * (2A + B)\n",
    "result2 = [[0, 0, 0], [0, 0, 0], [0, 0, 0]]\n",
    "for i in range(len(A_minus_B_squared)):\n",
    "    for j in range(len(two_A_plus_B[0])):\n",
    "        for k in range(len(two_A_plus_B)):\n",
    "            result2[i][j] += A_minus_B_squared[i][k] * two_A_plus_B[k][j]\n",
    "\n",
    "end_time = time.time()\n",
    "print(\"Час виконання з використанням циклів: \", end_time - start_time, \"секунд\")\n",
    "\n",
    "print(\"Результат з використанням NumPy:\")\n",
    "print(result)\n",
    "print(\"Результат з використанням циклів:\")\n",
    "print(result2)\n",
    "\n",
    "print(\"Чи співпадають результати?\", np.allclose(result, result2))"
   ]
  },
  {
   "cell_type": "code",
   "execution_count": null,
   "id": "62675864",
   "metadata": {},
   "outputs": [],
   "source": []
  }
 ],
 "metadata": {
  "kernelspec": {
   "display_name": "Python 3 (ipykernel)",
   "language": "python",
   "name": "python3"
  },
  "language_info": {
   "codemirror_mode": {
    "name": "ipython",
    "version": 3
   },
   "file_extension": ".py",
   "mimetype": "text/x-python",
   "name": "python",
   "nbconvert_exporter": "python",
   "pygments_lexer": "ipython3",
   "version": "3.11.5"
  }
 },
 "nbformat": 4,
 "nbformat_minor": 5
}
